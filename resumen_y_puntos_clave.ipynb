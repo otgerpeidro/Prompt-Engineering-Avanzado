{
 "cells": [
  {
   "cell_type": "markdown",
   "metadata": {},
   "source": [
    "# Instalar las bibliotecas necesarias"
   ]
  },
  {
   "cell_type": "code",
   "execution_count": 13,
   "metadata": {},
   "outputs": [
    {
     "name": "stdout",
     "output_type": "stream",
     "text": [
      "Requirement already satisfied: langchain in /Users/otgerpeidro/anaconda3/envs/nlp/lib/python3.11/site-packages (0.2.0)\n",
      "Requirement already satisfied: langchain-openai in /Users/otgerpeidro/anaconda3/envs/nlp/lib/python3.11/site-packages (0.1.7)\n",
      "Requirement already satisfied: openai in /Users/otgerpeidro/anaconda3/envs/nlp/lib/python3.11/site-packages (1.30.1)\n",
      "Requirement already satisfied: PyYAML>=5.3 in /Users/otgerpeidro/anaconda3/envs/nlp/lib/python3.11/site-packages (from langchain) (6.0.1)\n",
      "Requirement already satisfied: SQLAlchemy<3,>=1.4 in /Users/otgerpeidro/anaconda3/envs/nlp/lib/python3.11/site-packages (from langchain) (2.0.30)\n",
      "Requirement already satisfied: aiohttp<4.0.0,>=3.8.3 in /Users/otgerpeidro/anaconda3/envs/nlp/lib/python3.11/site-packages (from langchain) (3.9.5)\n",
      "Requirement already satisfied: dataclasses-json<0.7,>=0.5.7 in /Users/otgerpeidro/anaconda3/envs/nlp/lib/python3.11/site-packages (from langchain) (0.6.6)\n",
      "Requirement already satisfied: langchain-core<0.3.0,>=0.2.0 in /Users/otgerpeidro/anaconda3/envs/nlp/lib/python3.11/site-packages (from langchain) (0.2.1)\n",
      "Requirement already satisfied: langchain-text-splitters<0.3.0,>=0.2.0 in /Users/otgerpeidro/anaconda3/envs/nlp/lib/python3.11/site-packages (from langchain) (0.2.0)\n",
      "Requirement already satisfied: langsmith<0.2.0,>=0.1.17 in /Users/otgerpeidro/anaconda3/envs/nlp/lib/python3.11/site-packages (from langchain) (0.1.61)\n",
      "Requirement already satisfied: numpy<2,>=1 in /Users/otgerpeidro/anaconda3/envs/nlp/lib/python3.11/site-packages (from langchain) (1.26.4)\n",
      "Requirement already satisfied: pydantic<3,>=1 in /Users/otgerpeidro/anaconda3/envs/nlp/lib/python3.11/site-packages (from langchain) (2.7.1)\n",
      "Requirement already satisfied: requests<3,>=2 in /Users/otgerpeidro/anaconda3/envs/nlp/lib/python3.11/site-packages (from langchain) (2.31.0)\n",
      "Requirement already satisfied: tenacity<9.0.0,>=8.1.0 in /Users/otgerpeidro/anaconda3/envs/nlp/lib/python3.11/site-packages (from langchain) (8.3.0)\n",
      "Requirement already satisfied: tiktoken<1,>=0.7 in /Users/otgerpeidro/anaconda3/envs/nlp/lib/python3.11/site-packages (from langchain-openai) (0.7.0)\n",
      "Requirement already satisfied: anyio<5,>=3.5.0 in /Users/otgerpeidro/anaconda3/envs/nlp/lib/python3.11/site-packages (from openai) (4.2.0)\n",
      "Requirement already satisfied: distro<2,>=1.7.0 in /Users/otgerpeidro/anaconda3/envs/nlp/lib/python3.11/site-packages (from openai) (1.9.0)\n",
      "Requirement already satisfied: httpx<1,>=0.23.0 in /Users/otgerpeidro/anaconda3/envs/nlp/lib/python3.11/site-packages (from openai) (0.27.0)\n",
      "Requirement already satisfied: sniffio in /Users/otgerpeidro/anaconda3/envs/nlp/lib/python3.11/site-packages (from openai) (1.3.0)\n",
      "Requirement already satisfied: tqdm>4 in /Users/otgerpeidro/anaconda3/envs/nlp/lib/python3.11/site-packages (from openai) (4.66.4)\n",
      "Requirement already satisfied: typing-extensions<5,>=4.7 in /Users/otgerpeidro/anaconda3/envs/nlp/lib/python3.11/site-packages (from openai) (4.11.0)\n",
      "Requirement already satisfied: aiosignal>=1.1.2 in /Users/otgerpeidro/anaconda3/envs/nlp/lib/python3.11/site-packages (from aiohttp<4.0.0,>=3.8.3->langchain) (1.3.1)\n",
      "Requirement already satisfied: attrs>=17.3.0 in /Users/otgerpeidro/anaconda3/envs/nlp/lib/python3.11/site-packages (from aiohttp<4.0.0,>=3.8.3->langchain) (23.1.0)\n",
      "Requirement already satisfied: frozenlist>=1.1.1 in /Users/otgerpeidro/anaconda3/envs/nlp/lib/python3.11/site-packages (from aiohttp<4.0.0,>=3.8.3->langchain) (1.4.1)\n",
      "Requirement already satisfied: multidict<7.0,>=4.5 in /Users/otgerpeidro/anaconda3/envs/nlp/lib/python3.11/site-packages (from aiohttp<4.0.0,>=3.8.3->langchain) (6.0.5)\n",
      "Requirement already satisfied: yarl<2.0,>=1.0 in /Users/otgerpeidro/anaconda3/envs/nlp/lib/python3.11/site-packages (from aiohttp<4.0.0,>=3.8.3->langchain) (1.9.4)\n",
      "Requirement already satisfied: idna>=2.8 in /Users/otgerpeidro/anaconda3/envs/nlp/lib/python3.11/site-packages (from anyio<5,>=3.5.0->openai) (3.7)\n",
      "Requirement already satisfied: marshmallow<4.0.0,>=3.18.0 in /Users/otgerpeidro/anaconda3/envs/nlp/lib/python3.11/site-packages (from dataclasses-json<0.7,>=0.5.7->langchain) (3.21.2)\n",
      "Requirement already satisfied: typing-inspect<1,>=0.4.0 in /Users/otgerpeidro/anaconda3/envs/nlp/lib/python3.11/site-packages (from dataclasses-json<0.7,>=0.5.7->langchain) (0.9.0)\n",
      "Requirement already satisfied: certifi in /Users/otgerpeidro/anaconda3/envs/nlp/lib/python3.11/site-packages (from httpx<1,>=0.23.0->openai) (2024.2.2)\n",
      "Requirement already satisfied: httpcore==1.* in /Users/otgerpeidro/anaconda3/envs/nlp/lib/python3.11/site-packages (from httpx<1,>=0.23.0->openai) (1.0.5)\n",
      "Requirement already satisfied: h11<0.15,>=0.13 in /Users/otgerpeidro/anaconda3/envs/nlp/lib/python3.11/site-packages (from httpcore==1.*->httpx<1,>=0.23.0->openai) (0.14.0)\n",
      "Requirement already satisfied: jsonpatch<2.0,>=1.33 in /Users/otgerpeidro/anaconda3/envs/nlp/lib/python3.11/site-packages (from langchain-core<0.3.0,>=0.2.0->langchain) (1.33)\n",
      "Requirement already satisfied: packaging<24.0,>=23.2 in /Users/otgerpeidro/anaconda3/envs/nlp/lib/python3.11/site-packages (from langchain-core<0.3.0,>=0.2.0->langchain) (23.2)\n",
      "Requirement already satisfied: orjson<4.0.0,>=3.9.14 in /Users/otgerpeidro/anaconda3/envs/nlp/lib/python3.11/site-packages (from langsmith<0.2.0,>=0.1.17->langchain) (3.10.3)\n",
      "Requirement already satisfied: annotated-types>=0.4.0 in /Users/otgerpeidro/anaconda3/envs/nlp/lib/python3.11/site-packages (from pydantic<3,>=1->langchain) (0.7.0)\n",
      "Requirement already satisfied: pydantic-core==2.18.2 in /Users/otgerpeidro/anaconda3/envs/nlp/lib/python3.11/site-packages (from pydantic<3,>=1->langchain) (2.18.2)\n",
      "Requirement already satisfied: charset-normalizer<4,>=2 in /Users/otgerpeidro/anaconda3/envs/nlp/lib/python3.11/site-packages (from requests<3,>=2->langchain) (2.0.4)\n",
      "Requirement already satisfied: urllib3<3,>=1.21.1 in /Users/otgerpeidro/anaconda3/envs/nlp/lib/python3.11/site-packages (from requests<3,>=2->langchain) (2.1.0)\n",
      "Requirement already satisfied: greenlet!=0.4.17 in /Users/otgerpeidro/anaconda3/envs/nlp/lib/python3.11/site-packages (from SQLAlchemy<3,>=1.4->langchain) (3.0.3)\n",
      "Requirement already satisfied: regex>=2022.1.18 in /Users/otgerpeidro/anaconda3/envs/nlp/lib/python3.11/site-packages (from tiktoken<1,>=0.7->langchain-openai) (2024.5.10)\n",
      "Requirement already satisfied: jsonpointer>=1.9 in /Users/otgerpeidro/anaconda3/envs/nlp/lib/python3.11/site-packages (from jsonpatch<2.0,>=1.33->langchain-core<0.3.0,>=0.2.0->langchain) (2.4)\n",
      "Requirement already satisfied: mypy-extensions>=0.3.0 in /Users/otgerpeidro/anaconda3/envs/nlp/lib/python3.11/site-packages (from typing-inspect<1,>=0.4.0->dataclasses-json<0.7,>=0.5.7->langchain) (1.0.0)\n"
     ]
    }
   ],
   "source": [
    "!pip install langchain langchain-openai openai"
   ]
  },
  {
   "cell_type": "markdown",
   "metadata": {},
   "source": [
    "# Importar las bibliotecas necesarias"
   ]
  },
  {
   "cell_type": "code",
   "execution_count": 14,
   "metadata": {},
   "outputs": [],
   "source": [
    "import openai\n",
    "from langchain.prompts import ChatPromptTemplate\n",
    "from langchain_openai import ChatOpenAI\n",
    "from langchain.chains import LLMChain, SimpleSequentialChain"
   ]
  },
  {
   "cell_type": "markdown",
   "metadata": {},
   "source": [
    "# Configuración de la API key para OpenAI"
   ]
  },
  {
   "cell_type": "code",
   "execution_count": 15,
   "metadata": {},
   "outputs": [],
   "source": [
    "openai_api_key = \"XXXXX\"\n",
    "from openai import OpenAI\n",
    "client = OpenAI(api_key=openai_api_key)"
   ]
  },
  {
   "cell_type": "markdown",
   "metadata": {},
   "source": [
    "# Configuración del modelo con LangChain"
   ]
  },
  {
   "cell_type": "code",
   "execution_count": 16,
   "metadata": {},
   "outputs": [],
   "source": [
    "chat = ChatOpenAI(temperature=0.0, model=\"gpt-3.5-turbo\", api_key=openai_api_key)"
   ]
  },
  {
   "cell_type": "markdown",
   "metadata": {},
   "source": [
    "# Plantillas para el resumen y los puntos clave"
   ]
  },
  {
   "cell_type": "code",
   "execution_count": 17,
   "metadata": {},
   "outputs": [],
   "source": [
    "summary_template_string = \"\"\"Resume el siguiente texto:\n",
    "{text}\"\"\"\n",
    "summary_prompt_template = ChatPromptTemplate.from_template(summary_template_string)\n",
    "\n",
    "key_points_template_string = \"\"\"Extrae los puntos clave del siguiente texto:\n",
    "{text}\"\"\"\n",
    "key_points_prompt_template = ChatPromptTemplate.from_template(key_points_template_string)"
   ]
  },
  {
   "cell_type": "markdown",
   "metadata": {},
   "source": [
    "# Crear las cadenas LLM para resumen y puntos clave"
   ]
  },
  {
   "cell_type": "code",
   "execution_count": 18,
   "metadata": {},
   "outputs": [],
   "source": [
    "summary_chain = LLMChain(llm=chat, prompt=summary_prompt_template)\n",
    "key_points_chain = LLMChain(llm=chat, prompt=key_points_prompt_template)"
   ]
  },
  {
   "cell_type": "markdown",
   "metadata": {},
   "source": [
    "# Cadena secuencial"
   ]
  },
  {
   "cell_type": "code",
   "execution_count": 19,
   "metadata": {},
   "outputs": [],
   "source": [
    "summary_key_points_chain = SimpleSequentialChain(chains=[summary_chain, key_points_chain], verbose=True)\n"
   ]
  },
  {
   "cell_type": "markdown",
   "metadata": {},
   "source": [
    "# Función para generar resumen y puntos clave usando LangChain"
   ]
  },
  {
   "cell_type": "code",
   "execution_count": 20,
   "metadata": {},
   "outputs": [],
   "source": [
    "def summarize_and_extract_key_points(text):\n",
    "    return summary_key_points_chain.run(text)"
   ]
  },
  {
   "cell_type": "markdown",
   "metadata": {},
   "source": [
    "# Texto de prueba"
   ]
  },
  {
   "cell_type": "code",
   "execution_count": 21,
   "metadata": {},
   "outputs": [],
   "source": [
    "text = \"\"\"LangChain es una biblioteca que facilita la integración de modelos de lenguaje en aplicaciones complejas.\n",
    "Proporciona herramientas y abstracciones para construir cadenas de procesamiento de lenguaje natural de manera eficiente.\"\"\"\n"
   ]
  },
  {
   "cell_type": "markdown",
   "metadata": {},
   "source": [
    "# Ejecutar el sistema"
   ]
  },
  {
   "cell_type": "code",
   "execution_count": 22,
   "metadata": {},
   "outputs": [
    {
     "name": "stdout",
     "output_type": "stream",
     "text": [
      "\n",
      "\n",
      "\u001b[1m> Entering new SimpleSequentialChain chain...\u001b[0m\n",
      "\u001b[36;1m\u001b[1;3mLangChain es una biblioteca que simplifica la incorporación de modelos de lenguaje en aplicaciones complejas, ofreciendo herramientas y abstracciones para crear cadenas de procesamiento de lenguaje natural de forma eficiente.\u001b[0m\n",
      "\u001b[33;1m\u001b[1;3m- LangChain es una biblioteca\n",
      "- Simplifica la incorporación de modelos de lenguaje en aplicaciones complejas\n",
      "- Ofrece herramientas y abstracciones\n",
      "- Permite crear cadenas de procesamiento de lenguaje natural de forma eficiente.\u001b[0m\n",
      "\n",
      "\u001b[1m> Finished chain.\u001b[0m\n",
      "LangChain Result: - LangChain es una biblioteca\n",
      "- Simplifica la incorporación de modelos de lenguaje en aplicaciones complejas\n",
      "- Ofrece herramientas y abstracciones\n",
      "- Permite crear cadenas de procesamiento de lenguaje natural de forma eficiente.\n"
     ]
    }
   ],
   "source": [
    "result = summarize_and_extract_key_points(text)\n",
    "print(\"LangChain Result:\", result)"
   ]
  },
  {
   "cell_type": "markdown",
   "metadata": {},
   "source": [
    "# Función para generar resumen y puntos clave usando OpenAI directamente"
   ]
  },
  {
   "cell_type": "code",
   "execution_count": 23,
   "metadata": {},
   "outputs": [],
   "source": [
    "def summarize_and_extract_key_points_openai(text):\n",
    "    # Generar el resumen\n",
    "    summary_response = client.chat.completions.create(\n",
    "        model=\"gpt-3.5-turbo\",\n",
    "        messages=[\n",
    "            {\"role\": \"user\", \"content\": f\"Resume el siguiente texto:\\n\\n{text}\"}\n",
    "        ]\n",
    "    )\n",
    "    summary = summary_response.choices[0].message.content\n",
    "\n",
    "    # Extraer puntos clave\n",
    "    key_points_response = client.chat.completions.create(\n",
    "        model=\"gpt-3.5-turbo\",\n",
    "        messages=[\n",
    "            {\"role\": \"user\", \"content\": f\"Extrae los puntos clave del siguiente texto:\\n\\n{text}\"}\n",
    "        ]\n",
    "    )\n",
    "    key_points = key_points_response.choices[0].message.content\n",
    "\n",
    "    return summary, key_points"
   ]
  },
  {
   "cell_type": "markdown",
   "metadata": {},
   "source": [
    "# Ejecutar el sistema usando OpenAI directamente"
   ]
  },
  {
   "cell_type": "code",
   "execution_count": 24,
   "metadata": {},
   "outputs": [
    {
     "name": "stdout",
     "output_type": "stream",
     "text": [
      "OpenAI Result - Resumen: LangChain simplifica la incorporación de modelos de lenguaje en aplicaciones complejas al ofrecer herramientas y abstracciones que permiten construir cadenas de procesamiento de lenguaje natural de forma eficiente.\n",
      "OpenAI Result - Puntos Clave: - LangChain es una biblioteca.\n",
      "- Facilita la integración de modelos de lenguaje en aplicaciones complejas.\n",
      "- Proporciona herramientas y abstracciones para construir cadenas de procesamiento de lenguaje natural de manera eficiente.\n"
     ]
    }
   ],
   "source": [
    "summary, key_points = summarize_and_extract_key_points_openai(text)\n",
    "print(\"OpenAI Result - Resumen:\", summary)\n",
    "print(\"OpenAI Result - Puntos Clave:\", key_points)"
   ]
  },
  {
   "cell_type": "markdown",
   "metadata": {},
   "source": [
    "# Validación con varios textos"
   ]
  },
  {
   "cell_type": "code",
   "execution_count": 25,
   "metadata": {},
   "outputs": [],
   "source": [
    "text_examples = [\n",
    "    \"LangChain es una biblioteca que facilita la integración de modelos de lenguaje en aplicaciones complejas.\",\n",
    "    \"\"\"LangChain proporciona herramientas y abstracciones para construir cadenas de procesamiento de lenguaje natural de manera eficiente.\n",
    "    Es utilizada por desarrolladores para crear aplicaciones de inteligencia artificial más robustas y escalables.\"\"\",\n",
    "    \"\"\"LangChain es una poderosa herramienta que facilita la integración de modelos de lenguaje en aplicaciones complejas.\n",
    "    Con su conjunto de herramientas y abstracciones, los desarrolladores pueden construir cadenas de procesamiento de lenguaje natural\n",
    "    de manera más eficiente. Esto no solo acelera el desarrollo de aplicaciones de IA, sino que también permite una mayor escalabilidad\n",
    "    y robustez. Además, LangChain soporta múltiples modelos de lenguaje, lo que permite a los desarrolladores elegir la mejor opción\n",
    "    para sus necesidades específicas. En resumen, LangChain es una solución integral para el desarrollo de aplicaciones de IA avanzadas.\"\"\"\n",
    "]"
   ]
  },
  {
   "cell_type": "markdown",
   "metadata": {},
   "source": [
    "# Validación con LangChain"
   ]
  },
  {
   "cell_type": "code",
   "execution_count": 26,
   "metadata": {},
   "outputs": [
    {
     "name": "stdout",
     "output_type": "stream",
     "text": [
      "Validation with LangChain\n",
      "\n",
      "\n",
      "\u001b[1m> Entering new SimpleSequentialChain chain...\u001b[0m\n",
      "\u001b[36;1m\u001b[1;3mLangChain es una biblioteca que simplifica la incorporación de modelos de lenguaje en aplicaciones complejas.\u001b[0m\n",
      "\u001b[33;1m\u001b[1;3m- LangChain es una biblioteca\n",
      "- Simplifica la incorporación de modelos de lenguaje en aplicaciones complejas\u001b[0m\n",
      "\n",
      "\u001b[1m> Finished chain.\u001b[0m\n",
      "Texto: LangChain es una biblioteca que facilita la integración de modelos de lenguaje en aplicaciones complejas.\n",
      "Resumen y Puntos Clave: - LangChain es una biblioteca\n",
      "- Simplifica la incorporación de modelos de lenguaje en aplicaciones complejas\n",
      "\n",
      "\n",
      "\n",
      "\u001b[1m> Entering new SimpleSequentialChain chain...\u001b[0m\n",
      "\u001b[36;1m\u001b[1;3mLangChain ofrece herramientas y abstracciones para la construcción eficiente de cadenas de procesamiento de lenguaje natural. Es utilizada por desarrolladores para crear aplicaciones de inteligencia artificial más robustas y escalables.\u001b[0m\n",
      "\u001b[33;1m\u001b[1;3m- LangChain ofrece herramientas y abstracciones para la construcción eficiente de cadenas de procesamiento de lenguaje natural.\n",
      "- Es utilizada por desarrolladores para crear aplicaciones de inteligencia artificial más robustas y escalables.\u001b[0m\n",
      "\n",
      "\u001b[1m> Finished chain.\u001b[0m\n",
      "Texto: LangChain proporciona herramientas y abstracciones para construir cadenas de procesamiento de lenguaje natural de manera eficiente.\n",
      "    Es utilizada por desarrolladores para crear aplicaciones de inteligencia artificial más robustas y escalables.\n",
      "Resumen y Puntos Clave: - LangChain ofrece herramientas y abstracciones para la construcción eficiente de cadenas de procesamiento de lenguaje natural.\n",
      "- Es utilizada por desarrolladores para crear aplicaciones de inteligencia artificial más robustas y escalables.\n",
      "\n",
      "\n",
      "\n",
      "\u001b[1m> Entering new SimpleSequentialChain chain...\u001b[0m\n",
      "\u001b[36;1m\u001b[1;3mLangChain es una herramienta poderosa que facilita la integración de modelos de lenguaje en aplicaciones complejas, permitiendo a los desarrolladores construir cadenas de procesamiento de lenguaje natural de manera eficiente. Esto acelera el desarrollo de aplicaciones de IA, aumenta la escalabilidad y robustez, y ofrece soporte para múltiples modelos de lenguaje, permitiendo a los desarrolladores elegir la mejor opción para sus necesidades específicas. En resumen, LangChain es una solución integral para el desarrollo de aplicaciones de IA avanzadas.\u001b[0m\n",
      "\u001b[33;1m\u001b[1;3m- LangChain facilita la integración de modelos de lenguaje en aplicaciones complejas.\n",
      "- Permite a los desarrolladores construir cadenas de procesamiento de lenguaje natural de manera eficiente.\n",
      "- Acelera el desarrollo de aplicaciones de IA.\n",
      "- Aumenta la escalabilidad y robustez de las aplicaciones.\n",
      "- Ofrece soporte para múltiples modelos de lenguaje.\n",
      "- Permite a los desarrolladores elegir la mejor opción para sus necesidades específicas.\n",
      "- Es una solución integral para el desarrollo de aplicaciones de IA avanzadas.\u001b[0m\n",
      "\n",
      "\u001b[1m> Finished chain.\u001b[0m\n",
      "Texto: LangChain es una poderosa herramienta que facilita la integración de modelos de lenguaje en aplicaciones complejas.\n",
      "    Con su conjunto de herramientas y abstracciones, los desarrolladores pueden construir cadenas de procesamiento de lenguaje natural\n",
      "    de manera más eficiente. Esto no solo acelera el desarrollo de aplicaciones de IA, sino que también permite una mayor escalabilidad\n",
      "    y robustez. Además, LangChain soporta múltiples modelos de lenguaje, lo que permite a los desarrolladores elegir la mejor opción\n",
      "    para sus necesidades específicas. En resumen, LangChain es una solución integral para el desarrollo de aplicaciones de IA avanzadas.\n",
      "Resumen y Puntos Clave: - LangChain facilita la integración de modelos de lenguaje en aplicaciones complejas.\n",
      "- Permite a los desarrolladores construir cadenas de procesamiento de lenguaje natural de manera eficiente.\n",
      "- Acelera el desarrollo de aplicaciones de IA.\n",
      "- Aumenta la escalabilidad y robustez de las aplicaciones.\n",
      "- Ofrece soporte para múltiples modelos de lenguaje.\n",
      "- Permite a los desarrolladores elegir la mejor opción para sus necesidades específicas.\n",
      "- Es una solución integral para el desarrollo de aplicaciones de IA avanzadas.\n",
      "\n"
     ]
    }
   ],
   "source": [
    "print(\"Validation with LangChain\")\n",
    "for text in text_examples:\n",
    "    result = summarize_and_extract_key_points(text)\n",
    "    print(f\"Texto: {text}\\nResumen y Puntos Clave: {result}\\n\")"
   ]
  },
  {
   "cell_type": "markdown",
   "metadata": {},
   "source": [
    "# Validación con OpenAI directamente"
   ]
  },
  {
   "cell_type": "code",
   "execution_count": 27,
   "metadata": {},
   "outputs": [
    {
     "name": "stdout",
     "output_type": "stream",
     "text": [
      "Validation with OpenAI\n",
      "Texto: LangChain es una biblioteca que facilita la integración de modelos de lenguaje en aplicaciones complejas.\n",
      "Resumen: LangChain es una herramienta que simplifica la incorporación de modelos de lenguaje en aplicaciones sofisticadas.\n",
      "Puntos Clave: - LangChain\n",
      "- Biblioteca\n",
      "- Facilita integración de modelos de lenguaje\n",
      "- Aplicaciones complejas\n",
      "\n",
      "Texto: LangChain proporciona herramientas y abstracciones para construir cadenas de procesamiento de lenguaje natural de manera eficiente.\n",
      "    Es utilizada por desarrolladores para crear aplicaciones de inteligencia artificial más robustas y escalables.\n",
      "Resumen: LangChain es una plataforma que ofrece herramientas y abstracciones para desarrollar cadenas de procesamiento de lenguaje natural de forma eficiente. Es utilizada por desarrolladores para crear aplicaciones de inteligencia artificial más robustas y escalables.\n",
      "Puntos Clave: - LangChain proporciona herramientas y abstracciones\n",
      "- Construcción de cadenas de procesamiento de lenguaje natural de manera eficiente\n",
      "- Utilizada por desarrolladores\n",
      "- Creación de aplicaciones de inteligencia artificial más robustas y escalables.\n",
      "\n",
      "Texto: LangChain es una poderosa herramienta que facilita la integración de modelos de lenguaje en aplicaciones complejas.\n",
      "    Con su conjunto de herramientas y abstracciones, los desarrolladores pueden construir cadenas de procesamiento de lenguaje natural\n",
      "    de manera más eficiente. Esto no solo acelera el desarrollo de aplicaciones de IA, sino que también permite una mayor escalabilidad\n",
      "    y robustez. Además, LangChain soporta múltiples modelos de lenguaje, lo que permite a los desarrolladores elegir la mejor opción\n",
      "    para sus necesidades específicas. En resumen, LangChain es una solución integral para el desarrollo de aplicaciones de IA avanzadas.\n",
      "Resumen: LangChain facilita la integración de modelos de lenguaje en aplicaciones complejas, permitiendo construir cadenas de procesamiento de lenguaje natural de forma más eficiente. Soporta múltiples modelos de lenguaje y ofrece una solución integral para el desarrollo de aplicaciones de IA avanzadas, acelerando el proceso y proporcionando mayor escalabilidad y robustez.\n",
      "Puntos Clave: - LangChain es una herramienta poderosa para integrar modelos de lenguaje en aplicaciones complejas\n",
      "- Facilita la construcción de cadenas de procesamiento de lenguaje natural de manera eficiente\n",
      "- Acelera el desarrollo de aplicaciones de IA y permite mayor escalabilidad y robustez\n",
      "- Soporta múltiples modelos de lenguaje, permitiendo a los desarrolladores elegir la mejor opción para sus necesidades\n",
      "- Es una solución integral para el desarrollo de aplicaciones de IA avanzadas.\n",
      "\n"
     ]
    }
   ],
   "source": [
    "print(\"Validation with OpenAI\")\n",
    "for text in text_examples:\n",
    "    summary, key_points = summarize_and_extract_key_points_openai(text)\n",
    "    print(f\"Texto: {text}\\nResumen: {summary}\\nPuntos Clave: {key_points}\\n\")"
   ]
  }
 ],
 "metadata": {
  "kernelspec": {
   "display_name": "nlp_final",
   "language": "python",
   "name": "python3"
  },
  "language_info": {
   "codemirror_mode": {
    "name": "ipython",
    "version": 3
   },
   "file_extension": ".py",
   "mimetype": "text/x-python",
   "name": "python",
   "nbconvert_exporter": "python",
   "pygments_lexer": "ipython3",
   "version": "3.11.9"
  }
 },
 "nbformat": 4,
 "nbformat_minor": 2
}
